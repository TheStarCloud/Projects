{
 "cells": [
  {
   "cell_type": "code",
   "execution_count": 31,
   "id": "474f0698",
   "metadata": {},
   "outputs": [],
   "source": [
    "import requests\n",
    "import pandas as pd\n",
    "import io\n",
    "from datetime import date"
   ]
  },
  {
   "cell_type": "code",
   "execution_count": 32,
   "id": "8b0a71df",
   "metadata": {},
   "outputs": [],
   "source": [
    "r=requests.get('https://www.cisa.gov/sites/default/files/csv/known_exploited_vulnerabilities.csv')\n",
    "content=r.content\n",
    "vulns_df=pd.read_csv(io.StringIO(content.decode('utf-8')))"
   ]
  },
  {
   "cell_type": "code",
   "execution_count": 33,
   "id": "4f3a4bf1",
   "metadata": {},
   "outputs": [],
   "source": [
    "#vulns_df.dtypes\n",
    "#vulns_df['product'].value_counts()\n",
    "\n",
    "vulns_df['notes']=vulns_df['notes'].astype('object')\n",
    "\n",
    "#vulns_df.dtypes"
   ]
  },
  {
   "cell_type": "code",
   "execution_count": 34,
   "id": "f1bf497b",
   "metadata": {},
   "outputs": [],
   "source": [
    "#vulns_df"
   ]
  },
  {
   "cell_type": "code",
   "execution_count": 35,
   "id": "be5bd96b",
   "metadata": {},
   "outputs": [
    {
     "name": "stdout",
     "output_type": "stream",
     "text": [
      "Vulnerabilities for 2022-06-09\n"
     ]
    },
    {
     "data": {
      "text/html": [
       "<div>\n",
       "<style scoped>\n",
       "    .dataframe tbody tr th:only-of-type {\n",
       "        vertical-align: middle;\n",
       "    }\n",
       "\n",
       "    .dataframe tbody tr th {\n",
       "        vertical-align: top;\n",
       "    }\n",
       "\n",
       "    .dataframe thead th {\n",
       "        text-align: right;\n",
       "    }\n",
       "</style>\n",
       "<table border=\"1\" class=\"dataframe\">\n",
       "  <thead>\n",
       "    <tr style=\"text-align: right;\">\n",
       "      <th></th>\n",
       "      <th>cveID</th>\n",
       "      <th>vendorProject</th>\n",
       "      <th>product</th>\n",
       "      <th>vulnerabilityName</th>\n",
       "      <th>dateAdded</th>\n",
       "      <th>shortDescription</th>\n",
       "      <th>requiredAction</th>\n",
       "      <th>dueDate</th>\n",
       "      <th>notes</th>\n",
       "    </tr>\n",
       "  </thead>\n",
       "  <tbody>\n",
       "    <tr>\n",
       "      <th>774</th>\n",
       "      <td>CVE-2021-38163</td>\n",
       "      <td>SAP</td>\n",
       "      <td>NetWeaver</td>\n",
       "      <td>SAP NetWeaver Unrestricted File Upload vulnera...</td>\n",
       "      <td>2022-06-09</td>\n",
       "      <td>SAP NetWeaver contains a vulnerability that al...</td>\n",
       "      <td>Apply updates per vendor instructions.</td>\n",
       "      <td>2022-06-30</td>\n",
       "      <td>NaN</td>\n",
       "    </tr>\n",
       "    <tr>\n",
       "      <th>775</th>\n",
       "      <td>CVE-2016-2386</td>\n",
       "      <td>SAP</td>\n",
       "      <td>NetWeaver</td>\n",
       "      <td>SAP NetWeaver SQL Injection Vulnerability</td>\n",
       "      <td>2022-06-09</td>\n",
       "      <td>SQL injection vulnerability in the UDDI server...</td>\n",
       "      <td>Apply updates per vendor instructions.</td>\n",
       "      <td>2022-06-30</td>\n",
       "      <td>NaN</td>\n",
       "    </tr>\n",
       "    <tr>\n",
       "      <th>776</th>\n",
       "      <td>CVE-2016-2388</td>\n",
       "      <td>SAP</td>\n",
       "      <td>NetWeaver</td>\n",
       "      <td>SAP NetWeaver Information Disclorsure Vulnerab...</td>\n",
       "      <td>2022-06-09</td>\n",
       "      <td>The Universal Worklist Configuration in SAP Ne...</td>\n",
       "      <td>Apply updates per vendor instructions.</td>\n",
       "      <td>2022-06-30</td>\n",
       "      <td>NaN</td>\n",
       "    </tr>\n",
       "  </tbody>\n",
       "</table>\n",
       "</div>"
      ],
      "text/plain": [
       "              cveID vendorProject    product  \\\n",
       "774  CVE-2021-38163           SAP  NetWeaver   \n",
       "775   CVE-2016-2386           SAP  NetWeaver   \n",
       "776   CVE-2016-2388           SAP  NetWeaver   \n",
       "\n",
       "                                     vulnerabilityName   dateAdded  \\\n",
       "774  SAP NetWeaver Unrestricted File Upload vulnera...  2022-06-09   \n",
       "775          SAP NetWeaver SQL Injection Vulnerability  2022-06-09   \n",
       "776  SAP NetWeaver Information Disclorsure Vulnerab...  2022-06-09   \n",
       "\n",
       "                                      shortDescription  \\\n",
       "774  SAP NetWeaver contains a vulnerability that al...   \n",
       "775  SQL injection vulnerability in the UDDI server...   \n",
       "776  The Universal Worklist Configuration in SAP Ne...   \n",
       "\n",
       "                             requiredAction     dueDate notes  \n",
       "774  Apply updates per vendor instructions.  2022-06-30   NaN  \n",
       "775  Apply updates per vendor instructions.  2022-06-30   NaN  \n",
       "776  Apply updates per vendor instructions.  2022-06-30   NaN  "
      ]
     },
     "execution_count": 35,
     "metadata": {},
     "output_type": "execute_result"
    }
   ],
   "source": [
    "today = date.isoformat(date.today())\n",
    "print(\"Vulnerabilities for \" +today)\n",
    "todays_vulns = vulns_df[vulns_df.dateAdded == today]\n",
    "todays_vulns"
   ]
  },
  {
   "cell_type": "code",
   "execution_count": null,
   "id": "62b46c9d",
   "metadata": {},
   "outputs": [],
   "source": []
  }
 ],
 "metadata": {
  "kernelspec": {
   "display_name": "Python 3 (ipykernel)",
   "language": "python",
   "name": "python3"
  },
  "language_info": {
   "codemirror_mode": {
    "name": "ipython",
    "version": 3
   },
   "file_extension": ".py",
   "mimetype": "text/x-python",
   "name": "python",
   "nbconvert_exporter": "python",
   "pygments_lexer": "ipython3",
   "version": "3.8.10"
  }
 },
 "nbformat": 4,
 "nbformat_minor": 5
}
